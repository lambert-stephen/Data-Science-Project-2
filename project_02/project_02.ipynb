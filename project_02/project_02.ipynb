{
 "cells": [
  {
   "cell_type": "code",
   "execution_count": 1,
   "metadata": {},
   "outputs": [],
   "source": [
    "# Load libraries\n",
    "import pandas as pd\n",
    "import matplotlib.pyplot as plt\n",
    "import seaborn as sns\n",
    "import statsmodels.formula.api as smf\n",
    "from sklearn import linear_model\n",
    "from sklearn.model_selection import train_test_split, KFold, cross_val_score\n",
    "from sklearn.preprocessing import StandardScaler\n",
    "from sklearn.tree import DecisionTreeClassifier\n",
    "from sklearn.neighbors import KNeighborsClassifier\n",
    "from sklearn.naive_bayes import GaussianNB\n",
    "from sklearn.svm import SVC\n",
    "from sklearn import metrics"
   ]
  },
  {
   "cell_type": "code",
   "execution_count": 2,
   "metadata": {
    "scrolled": true
   },
   "outputs": [
    {
     "data": {
      "text/html": [
       "<div>\n",
       "<style scoped>\n",
       "    .dataframe tbody tr th:only-of-type {\n",
       "        vertical-align: middle;\n",
       "    }\n",
       "\n",
       "    .dataframe tbody tr th {\n",
       "        vertical-align: top;\n",
       "    }\n",
       "\n",
       "    .dataframe thead th {\n",
       "        text-align: right;\n",
       "    }\n",
       "</style>\n",
       "<table border=\"1\" class=\"dataframe\">\n",
       "  <thead>\n",
       "    <tr style=\"text-align: right;\">\n",
       "      <th></th>\n",
       "      <th>State</th>\n",
       "      <th>County</th>\n",
       "      <th>FIPS</th>\n",
       "      <th>Total Population</th>\n",
       "      <th>Percent White, not Hispanic or Latino</th>\n",
       "      <th>Percent Black, not Hispanic or Latino</th>\n",
       "      <th>Percent Hispanic or Latino</th>\n",
       "      <th>Percent Foreign Born</th>\n",
       "      <th>Percent Female</th>\n",
       "      <th>Percent Age 29 and Under</th>\n",
       "      <th>Percent Age 65 and Older</th>\n",
       "      <th>Median Household Income</th>\n",
       "      <th>Percent Unemployed</th>\n",
       "      <th>Percent Less than High School Degree</th>\n",
       "      <th>Percent Less than Bachelor's Degree</th>\n",
       "      <th>Percent Rural</th>\n",
       "      <th>Democratic</th>\n",
       "      <th>Republican</th>\n",
       "      <th>Party</th>\n",
       "    </tr>\n",
       "  </thead>\n",
       "  <tbody>\n",
       "    <tr>\n",
       "      <th>0</th>\n",
       "      <td>AZ</td>\n",
       "      <td>apache</td>\n",
       "      <td>4001</td>\n",
       "      <td>72346</td>\n",
       "      <td>18.571863</td>\n",
       "      <td>0.486551</td>\n",
       "      <td>5.947806</td>\n",
       "      <td>1.719515</td>\n",
       "      <td>50.598513</td>\n",
       "      <td>45.854643</td>\n",
       "      <td>13.322091</td>\n",
       "      <td>32460</td>\n",
       "      <td>15.807433</td>\n",
       "      <td>21.758252</td>\n",
       "      <td>88.941063</td>\n",
       "      <td>74.061076</td>\n",
       "      <td>16298</td>\n",
       "      <td>7810</td>\n",
       "      <td>1</td>\n",
       "    </tr>\n",
       "    <tr>\n",
       "      <th>1</th>\n",
       "      <td>AZ</td>\n",
       "      <td>cochise</td>\n",
       "      <td>4003</td>\n",
       "      <td>128177</td>\n",
       "      <td>56.299492</td>\n",
       "      <td>3.714395</td>\n",
       "      <td>34.403208</td>\n",
       "      <td>11.458374</td>\n",
       "      <td>49.069646</td>\n",
       "      <td>37.902276</td>\n",
       "      <td>19.756275</td>\n",
       "      <td>45383</td>\n",
       "      <td>8.567108</td>\n",
       "      <td>13.409171</td>\n",
       "      <td>76.837055</td>\n",
       "      <td>36.301067</td>\n",
       "      <td>17383</td>\n",
       "      <td>26929</td>\n",
       "      <td>0</td>\n",
       "    </tr>\n",
       "    <tr>\n",
       "      <th>2</th>\n",
       "      <td>AZ</td>\n",
       "      <td>coconino</td>\n",
       "      <td>4005</td>\n",
       "      <td>138064</td>\n",
       "      <td>54.619597</td>\n",
       "      <td>1.342855</td>\n",
       "      <td>13.711033</td>\n",
       "      <td>4.825298</td>\n",
       "      <td>50.581614</td>\n",
       "      <td>48.946141</td>\n",
       "      <td>10.873943</td>\n",
       "      <td>51106</td>\n",
       "      <td>8.238305</td>\n",
       "      <td>11.085381</td>\n",
       "      <td>65.791439</td>\n",
       "      <td>31.466066</td>\n",
       "      <td>34240</td>\n",
       "      <td>19249</td>\n",
       "      <td>1</td>\n",
       "    </tr>\n",
       "    <tr>\n",
       "      <th>3</th>\n",
       "      <td>AZ</td>\n",
       "      <td>gila</td>\n",
       "      <td>4007</td>\n",
       "      <td>53179</td>\n",
       "      <td>63.222325</td>\n",
       "      <td>0.552850</td>\n",
       "      <td>18.548675</td>\n",
       "      <td>4.249798</td>\n",
       "      <td>50.296170</td>\n",
       "      <td>32.238290</td>\n",
       "      <td>26.397638</td>\n",
       "      <td>40593</td>\n",
       "      <td>12.129932</td>\n",
       "      <td>15.729958</td>\n",
       "      <td>82.262624</td>\n",
       "      <td>41.062000</td>\n",
       "      <td>7643</td>\n",
       "      <td>12180</td>\n",
       "      <td>0</td>\n",
       "    </tr>\n",
       "    <tr>\n",
       "      <th>4</th>\n",
       "      <td>AZ</td>\n",
       "      <td>graham</td>\n",
       "      <td>4009</td>\n",
       "      <td>37529</td>\n",
       "      <td>51.461536</td>\n",
       "      <td>1.811932</td>\n",
       "      <td>32.097844</td>\n",
       "      <td>4.385942</td>\n",
       "      <td>46.313518</td>\n",
       "      <td>46.393456</td>\n",
       "      <td>12.315809</td>\n",
       "      <td>47422</td>\n",
       "      <td>14.424104</td>\n",
       "      <td>14.580797</td>\n",
       "      <td>86.675944</td>\n",
       "      <td>46.437399</td>\n",
       "      <td>3368</td>\n",
       "      <td>6870</td>\n",
       "      <td>0</td>\n",
       "    </tr>\n",
       "  </tbody>\n",
       "</table>\n",
       "</div>"
      ],
      "text/plain": [
       "  State    County  FIPS  Total Population  \\\n",
       "0    AZ    apache  4001             72346   \n",
       "1    AZ   cochise  4003            128177   \n",
       "2    AZ  coconino  4005            138064   \n",
       "3    AZ      gila  4007             53179   \n",
       "4    AZ    graham  4009             37529   \n",
       "\n",
       "   Percent White, not Hispanic or Latino  \\\n",
       "0                              18.571863   \n",
       "1                              56.299492   \n",
       "2                              54.619597   \n",
       "3                              63.222325   \n",
       "4                              51.461536   \n",
       "\n",
       "   Percent Black, not Hispanic or Latino  Percent Hispanic or Latino  \\\n",
       "0                               0.486551                    5.947806   \n",
       "1                               3.714395                   34.403208   \n",
       "2                               1.342855                   13.711033   \n",
       "3                               0.552850                   18.548675   \n",
       "4                               1.811932                   32.097844   \n",
       "\n",
       "   Percent Foreign Born  Percent Female  Percent Age 29 and Under  \\\n",
       "0              1.719515       50.598513                 45.854643   \n",
       "1             11.458374       49.069646                 37.902276   \n",
       "2              4.825298       50.581614                 48.946141   \n",
       "3              4.249798       50.296170                 32.238290   \n",
       "4              4.385942       46.313518                 46.393456   \n",
       "\n",
       "   Percent Age 65 and Older  Median Household Income  Percent Unemployed  \\\n",
       "0                 13.322091                    32460           15.807433   \n",
       "1                 19.756275                    45383            8.567108   \n",
       "2                 10.873943                    51106            8.238305   \n",
       "3                 26.397638                    40593           12.129932   \n",
       "4                 12.315809                    47422           14.424104   \n",
       "\n",
       "   Percent Less than High School Degree  Percent Less than Bachelor's Degree  \\\n",
       "0                             21.758252                            88.941063   \n",
       "1                             13.409171                            76.837055   \n",
       "2                             11.085381                            65.791439   \n",
       "3                             15.729958                            82.262624   \n",
       "4                             14.580797                            86.675944   \n",
       "\n",
       "   Percent Rural  Democratic  Republican  Party  \n",
       "0      74.061076       16298        7810      1  \n",
       "1      36.301067       17383       26929      0  \n",
       "2      31.466066       34240       19249      1  \n",
       "3      41.062000        7643       12180      0  \n",
       "4      46.437399        3368        6870      0  "
      ]
     },
     "execution_count": 2,
     "metadata": {},
     "output_type": "execute_result"
    }
   ],
   "source": [
    "# Load dataset\n",
    "data = pd.read_csv('merged_train.csv')\n",
    "data.head()"
   ]
  },
  {
   "cell_type": "code",
   "execution_count": 3,
   "metadata": {},
   "outputs": [],
   "source": [
    "#1. Partition the merged dataset into a training set and a validation set using the holdout method or the cross-validation method.\n",
    "# Democratic\n",
    "X_train, X_test, Y_train, Y_test = train_test_split(data[['FIPS', 'Total Population', 'Percent White, not Hispanic or Latino', 'Percent Black, not Hispanic or Latino', 'Percent Hispanic or Latino', 'Percent Foreign Born', 'Percent Female', 'Percent Age 29 and Under', 'Percent Age 65 and Older', 'Median Household Income', 'Percent Unemployed', 'Percent Less than High School Degree', \"Percent Less than Bachelor's Degree\", 'Percent Rural', 'Party']], data['Democratic'], test_size = 0.25,train_size = 0.75,random_state = 0)\n",
    "X_train, X_vals, Y_train, Y_vals = train_test_split(X_train, Y_train, test_size = 0.25, train_size = 0.75,  random_state = 0)\n",
    "\n",
    "# Republican\n",
    "X_train2, X_test2, Y_train2, Y_test2 = train_test_split(data[['FIPS', 'Total Population', 'Percent White, not Hispanic or Latino', 'Percent Black, not Hispanic or Latino', 'Percent Hispanic or Latino', 'Percent Foreign Born', 'Percent Female', 'Percent Age 29 and Under', 'Percent Age 65 and Older', 'Median Household Income', 'Percent Unemployed', 'Percent Less than High School Degree', \"Percent Less than Bachelor's Degree\", 'Percent Rural', 'Party']], data['Republican'], test_size = 0.25,train_size = 0.75,random_state = 0)\n",
    "X_train2, X_vals2, Y_train2, Y_vals2 = train_test_split(X_train2, Y_train2, test_size = 0.25, train_size = 0.75,  random_state = 0)"
   ]
  },
  {
   "cell_type": "code",
   "execution_count": 4,
   "metadata": {},
   "outputs": [],
   "source": [
    "#2. Standardize the training set and the validation set.\n",
    "# Democratic\n",
    "scaler = StandardScaler()\n",
    "scaler.fit(X_train)\n",
    "x_train_scaled = scaler.transform(X_train)\n",
    "x_vals_scaled = scaler.transform(X_vals)\n",
    "\n",
    "# Republican\n",
    "scaler2 = StandardScaler()\n",
    "scaler2.fit(X_train2)\n",
    "x_train_scaled2 = scaler2.transform(X_train2)\n",
    "x_vals_scaled2 = scaler2.transform(X_vals2)"
   ]
  },
  {
   "cell_type": "code",
   "execution_count": 5,
   "metadata": {},
   "outputs": [
    {
     "name": "stdout",
     "output_type": "stream",
     "text": [
      "0.9513600795496906\n"
     ]
    }
   ],
   "source": [
    "#3. Build a linear regression model to predict the number of votes cast for the Democratic party in each county.\n",
    "model = linear_model.LinearRegression().fit(X = x_train_scaled[:, [1, 7, 10]], y = Y_train)\n",
    "\n",
    "# Compute evaluation metrics for the validation set and report your results.\n",
    "Rsqr_val = model.score(X = x_vals_scaled[:, [1, 7, 10]], y = Y_vals)\n",
    "print(Rsqr_val)"
   ]
  },
  {
   "cell_type": "code",
   "execution_count": 6,
   "metadata": {},
   "outputs": [
    {
     "name": "stdout",
     "output_type": "stream",
     "text": [
      "0.5156182047170288\n"
     ]
    }
   ],
   "source": [
    "#3. Build a linear regression model to predict the number of votes cast for the Republican party in each county.\n",
    "model2 = linear_model.LinearRegression().fit(X = x_train_scaled2[:, [1, 2, 6, 7, 9, 10, 12, 13]], y = Y_train2)\n",
    "\n",
    "# Compute evaluation metrics for the validation set and report your results.\n",
    "Rsqr_val2 = model2.score(X = x_vals_scaled2[:, [1, 2, 6, 7, 9, 10, 12, 13]], y = Y_vals2)\n",
    "print(Rsqr_val2)"
   ]
  },
  {
   "cell_type": "code",
   "execution_count": 7,
   "metadata": {},
   "outputs": [],
   "source": [
    "#1. Party (Partition)\n",
    "X_train3, X_test3, Y_train3, Y_test3 = train_test_split(data[['Total Population', 'Percent White, not Hispanic or Latino', 'Percent Black, not Hispanic or Latino', 'Percent Hispanic or Latino', 'Percent Unemployed', 'Percent Less than High School Degree', 'Percent Rural']], data['Party'], test_size = 0.25,train_size = 0.75,random_state = 0)\n",
    "X_train3, X_vals3, Y_train3, Y_vals3 = train_test_split(X_train3, Y_train3, test_size = 0.25, train_size = 0.75,  random_state = 0)\n",
    "\n",
    "#2. Party (Standardize)\n",
    "scaler3 = StandardScaler()\n",
    "scaler3.fit(X_train3)\n",
    "x_train_scaled3 = scaler3.transform(X_train3)\n",
    "x_vals_scaled3 = scaler3.transform(X_vals3)"
   ]
  },
  {
   "cell_type": "code",
   "execution_count": 8,
   "metadata": {},
   "outputs": [
    {
     "data": {
      "image/png": "[encoded data removed]",
      "text/plain": [
       "<Figure size 432x288 with 2 Axes>"
      ]
     },
     "metadata": {
      "needs_background": "light"
     },
     "output_type": "display_data"
    }
   ],
   "source": [
    "#4. Build a classification model (Decision Trees) to classify each county as Democratic or Republican.\n",
    "classifier = DecisionTreeClassifier(criterion = \"entropy\", random_state = 0)\n",
    "classifier.fit(x_train_scaled3, Y_train3)\n",
    "\n",
    "y_pred = classifier.predict(x_vals_scaled3)\n",
    "\n",
    "conf_matrix = metrics.confusion_matrix(Y_vals3, y_pred)\n",
    "sns.heatmap(conf_matrix, annot = True, fmt = \".3f\", square = True, cmap = plt.cm.Blues)\n",
    "plt.ylabel('Actual')\n",
    "plt.xlabel('Predicted')\n",
    "plt.title('Confusion matrix')\n",
    "plt.tight_layout()"
   ]
  },
  {
   "cell_type": "code",
   "execution_count": 9,
   "metadata": {},
   "outputs": [
    {
     "name": "stdout",
     "output_type": "stream",
     "text": [
      "[0.8125, 0.1875, array([0.83522727, 0.72916667]), array([0.91875 , 0.546875]), array([0.875, 0.625])]\n"
     ]
    }
   ],
   "source": [
    "#4. Compute evaluation metrics for the validation set and report your results.\n",
    "accuracy = metrics.accuracy_score(Y_vals3, y_pred)\n",
    "error = 1 - metrics.accuracy_score(Y_vals3, y_pred)\n",
    "precision = metrics.precision_score(Y_vals3, y_pred, average = None)\n",
    "recall = metrics.recall_score(Y_vals3, y_pred, average = None)\n",
    "F1_score = metrics.f1_score(Y_vals3, y_pred, average = None)\n",
    "print([accuracy, error, precision, recall, F1_score])"
   ]
  },
  {
   "cell_type": "code",
   "execution_count": 10,
   "metadata": {},
   "outputs": [
    {
     "data": {
      "image/png": "[encoded data removed]",
      "text/plain": [
       "<Figure size 432x288 with 2 Axes>"
      ]
     },
     "metadata": {
      "needs_background": "light"
     },
     "output_type": "display_data"
    }
   ],
   "source": [
    "#4. Build a classification model (k-Nearest Neighbors) to classify each county as Democratic or Republican.\n",
    "classifier = KNeighborsClassifier(n_neighbors = 3)\n",
    "classifier.fit(x_train_scaled3, Y_train3)\n",
    "\n",
    "y_pred = classifier.predict(x_vals_scaled3)\n",
    "\n",
    "conf_matrix = metrics.confusion_matrix(Y_vals3, y_pred)\n",
    "sns.heatmap(conf_matrix, annot = True, fmt = \".3f\", square = True, cmap = plt.cm.Reds)\n",
    "plt.ylabel('Actual')\n",
    "plt.xlabel('Predicted')\n",
    "plt.title('Confusion matrix')\n",
    "plt.tight_layout()"
   ]
  },
  {
   "cell_type": "code",
   "execution_count": 11,
   "metadata": {},
   "outputs": [
    {
     "name": "stdout",
     "output_type": "stream",
     "text": [
      "[0.7901785714285714, 0.2098214285714286, array([0.80874317, 0.70731707]), array([0.925   , 0.453125]), array([0.86297376, 0.55238095])]\n"
     ]
    }
   ],
   "source": [
    "#4. Compute evaluation metrics for the validation set and report your results.\n",
    "accuracy = metrics.accuracy_score(Y_vals3, y_pred)\n",
    "error = 1 - metrics.accuracy_score(Y_vals3, y_pred)\n",
    "precision = metrics.precision_score(Y_vals3, y_pred, average = None)\n",
    "recall = metrics.recall_score(Y_vals3, y_pred, average = None)\n",
    "F1_score = metrics.f1_score(Y_vals3, y_pred, average = None)\n",
    "print([accuracy, error, precision, recall, F1_score])"
   ]
  },
  {
   "cell_type": "code",
   "execution_count": 12,
   "metadata": {},
   "outputs": [
    {
     "data": {
      "image/png": "[encoded data removed]",
      "text/plain": [
       "<Figure size 432x288 with 2 Axes>"
      ]
     },
     "metadata": {
      "needs_background": "light"
     },
     "output_type": "display_data"
    }
   ],
   "source": [
    "#4. Build a classification model (Naive Bayes) to classify each county as Democratic or Republican.\n",
    "classifier = GaussianNB()\n",
    "classifier.fit(x_train_scaled3, Y_train3)\n",
    "\n",
    "y_pred = classifier.predict(x_vals_scaled3)\n",
    "\n",
    "conf_matrix = metrics.confusion_matrix(Y_vals3, y_pred)\n",
    "sns.heatmap(conf_matrix, annot = True, fmt = \".3f\", square = True, cmap = plt.cm.Greens)\n",
    "plt.ylabel('Actual')\n",
    "plt.xlabel('Predicted')\n",
    "plt.title('Confusion matrix')\n",
    "plt.tight_layout()"
   ]
  },
  {
   "cell_type": "code",
   "execution_count": 13,
   "metadata": {},
   "outputs": [
    {
     "name": "stdout",
     "output_type": "stream",
     "text": [
      "[0.7455357142857143, 0.2544642857142857, array([0.77540107, 0.59459459]), array([0.90625, 0.34375]), array([0.83573487, 0.43564356])]\n"
     ]
    }
   ],
   "source": [
    "#4. Compute evaluation metrics for the validation set and report your results.\n",
    "accuracy = metrics.accuracy_score(Y_vals3, y_pred)\n",
    "error = 1 - metrics.accuracy_score(Y_vals3, y_pred)\n",
    "precision = metrics.precision_score(Y_vals3, y_pred, average = None)\n",
    "recall = metrics.recall_score(Y_vals3, y_pred, average = None)\n",
    "F1_score = metrics.f1_score(Y_vals3, y_pred, average = None)\n",
    "print([accuracy, error, precision, recall, F1_score])"
   ]
  },
  {
   "cell_type": "code",
   "execution_count": 14,
   "metadata": {},
   "outputs": [
    {
     "data": {
      "image/png": "[encoded data removed]",
      "text/plain": [
       "<Figure size 432x288 with 2 Axes>"
      ]
     },
     "metadata": {
      "needs_background": "light"
     },
     "output_type": "display_data"
    }
   ],
   "source": [
    "#4. Build a classification model (Support Vector Machines) to classify each county as Democratic or Republican.\n",
    "classifier = SVC(kernel = \"rbf\")\n",
    "classifier.fit(x_train_scaled3, Y_train3)\n",
    "\n",
    "y_pred = classifier.predict(x_vals_scaled3)\n",
    "\n",
    "conf_matrix = metrics.confusion_matrix(Y_vals3, y_pred)\n",
    "sns.heatmap(conf_matrix, annot = True, fmt = \".3f\", square = True, cmap = plt.cm.Purples)\n",
    "plt.ylabel('Actual')\n",
    "plt.xlabel('Predicted')\n",
    "plt.title('Confusion matrix')\n",
    "plt.tight_layout()"
   ]
  },
  {
   "cell_type": "code",
   "execution_count": 15,
   "metadata": {},
   "outputs": [
    {
     "name": "stdout",
     "output_type": "stream",
     "text": [
      "[0.7946428571428571, 0.2053571428571429, array([0.77941176, 0.95      ]), array([0.99375 , 0.296875]), array([0.87362637, 0.45238095])]\n"
     ]
    }
   ],
   "source": [
    "#4. Compute evaluation metrics for the validation set and report your results.\n",
    "accuracy = metrics.accuracy_score(Y_vals3, y_pred)\n",
    "error = 1 - metrics.accuracy_score(Y_vals3, y_pred)\n",
    "precision = metrics.precision_score(Y_vals3, y_pred, average = None)\n",
    "recall = metrics.recall_score(Y_vals3, y_pred, average = None)\n",
    "F1_score = metrics.f1_score(Y_vals3, y_pred, average = None)\n",
    "print([accuracy, error, precision, recall, F1_score])"
   ]
  },
  {
   "cell_type": "code",
   "execution_count": null,
   "metadata": {},
   "outputs": [],
   "source": []
  }
 ],
 "metadata": {
  "kernelspec": {
   "display_name": "Python 3",
   "language": "python",
   "name": "python3"
  },
  "language_info": {
   "codemirror_mode": {
    "name": "ipython",
    "version": 3
   },
   "file_extension": ".py",
   "mimetype": "text/x-python",
   "name": "python",
   "nbconvert_exporter": "python",
   "pygments_lexer": "ipython3",
   "version": "3.8.3"
  }
 },
 "nbformat": 4,
 "nbformat_minor": 4
}
